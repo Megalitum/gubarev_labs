{
 "cells": [
  {
   "cell_type": "markdown",
   "metadata": {},
   "source": [
    "# Иморт библиотек"
   ]
  },
  {
   "cell_type": "code",
   "execution_count": 1,
   "metadata": {
    "collapsed": false
   },
   "outputs": [
    {
     "name": "stdout",
     "output_type": "stream",
     "text": [
      "Populating the interactive namespace from numpy and matplotlib\n"
     ]
    }
   ],
   "source": [
    "%pylab inline"
   ]
  },
  {
   "cell_type": "code",
   "execution_count": 2,
   "metadata": {
    "collapsed": true
   },
   "outputs": [],
   "source": [
    "from scipy import optimize\n",
    "import seaborn as sns\n",
    "\n",
    "from collections import Counter\n",
    "import itertools"
   ]
  },
  {
   "cell_type": "markdown",
   "metadata": {},
   "source": [
    "# Загрузка данных"
   ]
  },
  {
   "cell_type": "code",
   "execution_count": 4,
   "metadata": {
    "collapsed": false
   },
   "outputs": [],
   "source": [
    "class ObservableSystem(object):\n",
    "    def __init__(self, eigenvalues=None):\n",
    "        if eigenvalues is None:\n",
    "            self.eigenvalues = load('lab1_data/points.npy')\n",
    "            self.f_cc = load('lab1_data/f_c.npy')\n",
    "            self.f_ss = load('lab1_data/f_s.npy')\n",
    "        else:\n",
    "            # TODO: Fix f generation bug (mult by taylor).\n",
    "            cnt = Counter(eigenvalues)\n",
    "            unique_eigenvalues = cnt.keys()\n",
    "            eigen_count = len(unique_eigenvalues)\n",
    "            f_c, f_s = generate_f((2, eigen_count))\n",
    "            self.eigenvalues = concatenate(tuple(repeat(value, cnt[value]) for value in unique_eigenvalues))\n",
    "            self.f_cc = concatenate(tuple(repeat(f_c[i], cnt[value]) for i, value in enumerate(unique_eigenvalues)))\n",
    "            self.f_ss = concatenate(tuple(repeat(f_s[i], cnt[value]) for i, value in enumerate(unique_eigenvalues)))\n",
    "        self.delta = self.calculate_delta()\n",
    "        print('Eigenvalues: ', self.eigenvalues)\n",
    "        print('f_c: ', self.f_cc)\n",
    "        print('f_s: ', self.f_ss)\n",
    "        print('Delta: ', self.delta)\n",
    "\n",
    "    def calculate_delta(self):\n",
    "        return min(2 / (5 * max(abs(self.eigenvalues.real))), np.pi / (5 * max(abs(self.eigenvalues.imag))))\n",
    "\n",
    "    def __call__(self, x):\n",
    "        params = concatenate((self.f_cc, self.f_ss, -self.eigenvalues.real, self.eigenvalues.imag))\n",
    "        return impulse_vec(x, params, self.delta)"
   ]
  },
  {
   "cell_type": "code",
   "execution_count": 6,
   "metadata": {
    "collapsed": false
   },
   "outputs": [
    {
     "name": "stdout",
     "output_type": "stream",
     "text": [
      "Eigenvalues:  [-2.13498583+0.j       -3.78557500+0.j       -1.97344750+0.j\n",
      " -3.35096167+0.j        0.00000000+7.478414j  0.00000000+0.488119j\n",
      "  0.00000000+3.717795j  0.00000000-7.478414j  0.00000000-0.488119j\n",
      "  0.00000000-3.717795j -3.65719292+4.976066j -1.22275083+3.242653j\n",
      " -1.03305958+6.197849j -4.01719625+4.616544j -2.63104708+6.993242j\n",
      " -1.49858875+6.442257j -3.07762250+3.129952j -4.99519292+5.620215j\n",
      " -2.41375917+5.33778j  -4.20594167+3.704083j -3.65719292-4.976066j\n",
      " -1.22275083-3.242653j -1.03305958-6.197849j -4.01719625-4.616544j\n",
      " -2.63104708-6.993242j -1.49858875-6.442257j -3.07762250-3.129952j\n",
      " -4.99519292-5.620215j -2.41375917-5.33778j  -4.20594167-3.704083j]\n",
      "f_c:  [-0.99740399 -0.93149025 -0.94040093 -0.9277157   0.97393318  0.92715824\n",
      " -0.94694202  0.90532285  0.91672062 -0.90495054  0.91666653  0.96777727\n",
      "  0.90986433 -0.97765229 -0.90823509 -0.9610488   0.90933693  0.96952902\n",
      " -0.98114671 -0.99411349 -0.93428792 -0.9982942  -0.99447083 -0.96761123\n",
      "  0.90395753 -0.96127545 -0.98299025  0.90898092 -0.95883866 -0.90539646]\n",
      "f_s:  [ 0.97425519 -0.9723822  -0.95530751 -0.9230654   0.93832964 -0.99906757\n",
      " -0.92508079  0.920591    0.91127586 -0.96785175 -0.96956433 -0.96713837\n",
      "  0.98379889  0.95370346  0.95331796  0.94738846  0.95919532 -0.9639569\n",
      " -0.95581293 -0.92994963  0.93011872  0.91966274 -0.96280584 -0.97320636\n",
      " -0.98598844 -0.96800916  0.94307479 -0.96053835 -0.98697923  0.94783454]\n",
      "Delta:  0.0800769873503\n"
     ]
    }
   ],
   "source": [
    "impulse = ObservableSystem()"
   ]
  },
  {
   "cell_type": "code",
   "execution_count": 19,
   "metadata": {
    "collapsed": false
   },
   "outputs": [
    {
     "data": {
      "image/png": "[encoded data removed]",
      "text/plain": [
       "<matplotlib.figure.Figure at 0x115b07cf8>"
      ]
     },
     "metadata": {},
     "output_type": "display_data"
    }
   ],
   "source": [
    "axes().set_ylabel('Image') \n",
    "axes().set_xlabel('Real')\n",
    "title(\"Eigenvalues\")\n",
    "color = mean(impulse.eigenvalues.real) - impulse.eigenvalues.real\n",
    "_ = scatter(impulse.eigenvalues.real, impulse.eigenvalues.imag, c=color, cmap='autumn')"
   ]
  },
  {
   "cell_type": "markdown",
   "metadata": {},
   "source": [
    "# Постановка задачи"
   ]
  },
  {
   "cell_type": "markdown",
   "metadata": {},
   "source": [
    "Задано $N=30$ исходных собственных чисел матрицы $A$. Требуется редуцировать порядок системы.\n",
    "Если на вход системе подается испульсная дельта-функция Дирака $\\delta(\\theta - t_0)$, то получаем на выходе\n",
    "$$y_k=\\sum\\limits_{p=1}^{P} \\sum\\limits_{j=1}^{n_p} \\frac{(k \\Delta)^{j-1}}{(j-1)!}(f_{p_j}^c \\cos k \\Delta \\beta_p + f_{p_j}^s \\sin k \\Delta \\beta_p) \\exp(-\\alpha_p k \\Delta)$$\n"
   ]
  },
  {
   "cell_type": "markdown",
   "metadata": {},
   "source": [
    "Задача – определить параметры редуцированной системы, а именно $f_q^c, f_q^s, \\alpha_q, \\beta_q$, когда\n",
    "$$\\tilde y_k = \\sum\\limits_{q=1}^Q (f_q^c \\cos k \\Delta \\beta_q + f_q^s \\sin k \\Delta \\beta_q) \\exp(-\\alpha_q k \\Delta)$$"
   ]
  },
  {
   "cell_type": "markdown",
   "metadata": {},
   "source": [
    "# Выполнение работы"
   ]
  },
  {
   "cell_type": "code",
   "execution_count": 20,
   "metadata": {
    "collapsed": true
   },
   "outputs": [],
   "source": [
    "def impulse_vec(x, params, delta=0.05):\n",
    "    \"\"\"\n",
    "    Creates impulse reaction with given parameters and returns it.\n",
    "    Assumes it's argument has `params = (f_c, f_s, alpha, beta)` structure.\n",
    "    f_c = params[:q]\n",
    "    f_s = params[q:2*q]\n",
    "    alpha = params[2*q:3*q]\n",
    "    beta = params[3*q:]\n",
    "    \"\"\"\n",
    "    q = params.shape[0] // 4\n",
    "    a_d = delta * params[2 * q:3 * q]\n",
    "    b_d = delta * params[3 * q:]\n",
    "    x_b = x[:, newaxis] * b_d\n",
    "    coef = params[:q] * np.cos(x_b) + params[q:2*q] * np.sin(x_b)\n",
    "    exp_val = np.exp(- x[:, newaxis] * a_d)\n",
    "    return sum(multiply(coef, exp_val), axis=1)"
   ]
  },
  {
   "cell_type": "code",
   "execution_count": 21,
   "metadata": {
    "collapsed": true
   },
   "outputs": [],
   "source": [
    "N = 500\n",
    "support = arange(1,N + 1, 1)"
   ]
  },
  {
   "cell_type": "code",
   "execution_count": 22,
   "metadata": {
    "collapsed": true
   },
   "outputs": [],
   "source": [
    "noisy = impulse(support)"
   ]
  },
  {
   "cell_type": "code",
   "execution_count": 23,
   "metadata": {
    "collapsed": true
   },
   "outputs": [],
   "source": [
    "def cost_inf(vec):\n",
    "    approx = impulse_vec(support, vec, impulse.delta)\n",
    "    return max(abs(noisy - approx))"
   ]
  },
  {
   "cell_type": "code",
   "execution_count": 25,
   "metadata": {
    "collapsed": true
   },
   "outputs": [],
   "source": [
    "def starting_points():\n",
    "    return itertools.product([-1, 1], [-1, 1], arange(0, 5, 1), arange(-10, 11, 1))"
   ]
  },
  {
   "cell_type": "code",
   "execution_count": 41,
   "metadata": {
    "collapsed": true
   },
   "outputs": [],
   "source": [
    "def starting_points_mock():\n",
    "    return itertools.product([1], [1], [0], [4])"
   ]
  },
  {
   "cell_type": "code",
   "execution_count": 44,
   "metadata": {
    "collapsed": true
   },
   "outputs": [],
   "source": [
    "def generate_bounds(q):\n",
    "    return [(None, None), (None, None), (0, 6), (-10, 10)] * q"
   ]
  },
  {
   "cell_type": "code",
   "execution_count": null,
   "metadata": {
    "collapsed": false
   },
   "outputs": [
    {
     "name": "stdout",
     "output_type": "stream",
     "text": [
      "Current Q: 1\n",
      "Updated result: 6.121629483064823\n",
      "Updated result: 5.889722875769086\n",
      "Updated result: 5.425207500651579\n",
      "Updated result: 4.5847453958410345\n",
      "Updated result: 4.4788424976564745\n"
     ]
    }
   ],
   "source": [
    "def perform_inf_approximation(max_q):\n",
    "    current_solution = None\n",
    "    start_point = None\n",
    "    start_default = array([[1], [1], [0], [0]], dtype=float64)\n",
    "    fig, ax = subplots(max_q, 3, figsize=(15, 3*max_q))\n",
    "    for q in range(max_q):\n",
    "        print(\"Current Q: %d\" % (q + 1))\n",
    "        axes = ax[q]\n",
    "        axes[0].set_title(r\"$y$ vs $\\tilde{y}$\")\n",
    "        axes[1].set_title(r\"$|y - \\tilde{y}|$\")\n",
    "        axes[2].set_title(r\"Eigenvalues\")\n",
    "        axes[2].set_xlabel('Real')\n",
    "        axes[2].set_ylabel('Imag')\n",
    "        axes[2].scatter(impulse.eigenvalues.real, impulse.eigenvalues.imag, marker='+')\n",
    "        if current_solution is None:\n",
    "            start_point = start_default\n",
    "        else:\n",
    "            start_point = np.hstack((current_solution.x.reshape((4, q)), start_default))\n",
    "        bounds = generate_bounds(q + 1)\n",
    "        for appendix in starting_points():\n",
    "            start_point[:, -1] = appendix\n",
    "            result = optimize.minimize(cost_inf, start_point.ravel(), bounds=bounds)\n",
    "            if current_solution is None or current_solution.fun > result.fun:\n",
    "                current_solution = result\n",
    "                print(\"Updated result: {0}\".format(result.fun))\n",
    "        approx = impulse_vec(support, current_solution.x, impulse.delta)\n",
    "        axes[0].plot(support, noisy, label=\"$y$\")\n",
    "        axes[0].plot(support, approx, label=r\"$\\tilde{y}$\", c='red')\n",
    "        axes[0].legend(loc='upper left')\n",
    "        axes[1].plot(support, abs(noisy - approx))\n",
    "        axes[1].axhline(current_solution.fun, c='red')\n",
    "        axes[1].annotate(\"y = %.3f\" % current_solution.fun, xy=(10, current_solution.fun*1.01), fontsize=9)\n",
    "        *_, alpha, beta = current_solution.x.reshape((4, q + 1))\n",
    "        axes[2].scatter(-alpha, beta, marker='x', c='red')\n",
    "    fig.tight_layout()\n",
    "\n",
    "perform_inf_approximation(8)"
   ]
  },
  {
   "cell_type": "code",
   "execution_count": null,
   "metadata": {
    "collapsed": true
   },
   "outputs": [],
   "source": []
  }
 ],
 "metadata": {
  "kernelspec": {
   "display_name": "Python 3",
   "language": "python",
   "name": "python3"
  },
  "language_info": {
   "codemirror_mode": {
    "name": "ipython",
    "version": 3
   },
   "file_extension": ".py",
   "mimetype": "text/x-python",
   "name": "python",
   "nbconvert_exporter": "python",
   "pygments_lexer": "ipython3",
   "version": "3.5.2"
  }
 },
 "nbformat": 4,
 "nbformat_minor": 0
}
