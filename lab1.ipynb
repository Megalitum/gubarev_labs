{
 "cells": [
  {
   "cell_type": "markdown",
   "metadata": {},
   "source": [
    "# Иморт библиотек"
   ]
  },
  {
   "cell_type": "code",
   "execution_count": 2,
   "metadata": {
    "collapsed": false
   },
   "outputs": [
    {
     "name": "stdout",
     "output_type": "stream",
     "text": [
      "Populating the interactive namespace from numpy and matplotlib\n"
     ]
    }
   ],
   "source": [
    "%pylab inline"
   ]
  },
  {
   "cell_type": "code",
   "execution_count": 3,
   "metadata": {
    "collapsed": true
   },
   "outputs": [],
   "source": [
    "import scipy as sp\n",
    "import seaborn as sns"
   ]
  },
  {
   "cell_type": "code",
   "execution_count": 4,
   "metadata": {
    "collapsed": true
   },
   "outputs": [],
   "source": [
    "from collections import Counter"
   ]
  },
  {
   "cell_type": "markdown",
   "metadata": {},
   "source": [
    "# Загрузка данных"
   ]
  },
  {
   "cell_type": "code",
   "execution_count": 5,
   "metadata": {
    "collapsed": false
   },
   "outputs": [],
   "source": [
    "points = np.load('lab1_data/points.npy')"
   ]
  },
  {
   "cell_type": "code",
   "execution_count": 6,
   "metadata": {
    "collapsed": false
   },
   "outputs": [
    {
     "data": {
      "text/plain": [
       "<matplotlib.collections.PathCollection at 0x11370c978>"
      ]
     },
     "execution_count": 6,
     "metadata": {},
     "output_type": "execute_result"
    },
    {
     "data": {
      "image/png": "[encoded data removed]",
      "text/plain": [
       "<matplotlib.figure.Figure at 0x1136359b0>"
      ]
     },
     "metadata": {},
     "output_type": "display_data"
    }
   ],
   "source": [
    "axes().set_ylabel('Image') \n",
    "axes().set_xlabel('Real')\n",
    "scatter(points.real, points.imag)"
   ]
  },
  {
   "cell_type": "markdown",
   "metadata": {},
   "source": [
    "# Постановка задачи"
   ]
  },
  {
   "cell_type": "markdown",
   "metadata": {},
   "source": [
    "Задано $N=30$ исходных собственных чисел матрицы $A$. Требуется редуцировать порядок системы.\n",
    "Если на вход системе подается испульсная дельта-функция Дирака $\\delta(\\theta - t_0)$, то получаем на выходе\n",
    "$$y_k=\\sum\\limits_{p=1}^{P} \\sum\\limits_{j=1}^{n_p} \\frac{(k \\Delta)^{j-1}}{(j-1)!}(f_{p_j}^c \\cos k \\Delta \\beta_p + f_{p_j}^s \\sin k \\Delta \\beta_p) \\exp(-\\alpha_p k \\Delta)$$\n"
   ]
  },
  {
   "cell_type": "markdown",
   "metadata": {},
   "source": [
    "Задача – определить параметры редуцированной системы, а именно $f_q^c, f_q^s, \\alpha_q, \\beta_q$, когда\n",
    "$$\\tilde y_k = \\sum\\limits_{q=1}^Q (f_q^c \\cos k \\Delta \\beta_q + f_q^s \\sin k \\Delta \\beta_q) \\exp(-\\alpha_q k \\Delta)$$"
   ]
  },
  {
   "cell_type": "markdown",
   "metadata": {},
   "source": [
    "# Выполнение работы"
   ]
  },
  {
   "cell_type": "code",
   "execution_count": 7,
   "metadata": {
    "collapsed": true
   },
   "outputs": [],
   "source": [
    "def generate_f(size):\n",
    "    \"\"\"\n",
    "    Generates random numbers of given size uniformly in (-1, -0.9) join (0.9, 1).\n",
    "    \"\"\"\n",
    "    arr = random.uniform(0.9, 1.1, size)\n",
    "    arr[arr > 1] -= 2\n",
    "    return arr"
   ]
  },
  {
   "cell_type": "code",
   "execution_count": 8,
   "metadata": {
    "collapsed": true
   },
   "outputs": [],
   "source": [
    "def get_impulse_sum(f_c, f_s, alpha, beta, delta=0.05):\n",
    "    \"\"\"\n",
    "    Creates sum calculator with given parameters and returns it.\n",
    "    \"\"\"\n",
    "    def sum_calculator(k):\n",
    "        coef = f_c * np.cos(k * delta * beta) + f_s * np.sin(k * delta * beta)\n",
    "        exp_val = np.exp(- alpha * k * delta)\n",
    "        return np.dot(coef, exp_val)\n",
    "    return sum_calculator"
   ]
  },
  {
   "cell_type": "code",
   "execution_count": 9,
   "metadata": {
    "collapsed": true
   },
   "outputs": [],
   "source": [
    "def calculate_delta(eigenvalues):\n",
    "    return min(2 / (5 * max(abs(eigenvalues.real))), np.pi / (5 * max(abs(eigenvalues.real))))"
   ]
  },
  {
   "cell_type": "code",
   "execution_count": 10,
   "metadata": {
    "collapsed": true
   },
   "outputs": [],
   "source": [
    "class InitialImpulse(object):\n",
    "    def __init__(self, eigenvalues):\n",
    "        self.delta = calculate_delta(eigenvalues)\n",
    "        cnt = Counter(eigenvalues)\n",
    "        unique_eigenvalues = cnt.keys()\n",
    "        eigen_count = len(unique_eigenvalues)\n",
    "        f_c, f_s = generate_f((2, eigen_count))\n",
    "        self.eigenvalues = concatenate(tuple(repeat(value, cnt[value]) for value in unique_eigenvalues))\n",
    "        self.f_cc = concatenate(tuple(repeat(f_c[i], cnt[value]) for i, value in enumerate(unique_eigenvalues)))\n",
    "        self.f_ss = concatenate(tuple(repeat(f_s[i], cnt[value]) for i, value in enumerate(unique_eigenvalues)))\n",
    "        print('Eigenvalues: ', self.eigenvalues)\n",
    "        print('f_c: ', self.f_cc)\n",
    "        print('f_s: ', self.f_ss)\n",
    "        print('Delta: ', self.delta)\n",
    "        \n",
    "    def functor(self):\n",
    "        return vectorize(get_impulse_sum(self.f_cc, self.f_ss, -self.eigenvalues.real, self.eigenvalues.imag, self.delta))"
   ]
  },
  {
   "cell_type": "code",
   "execution_count": 11,
   "metadata": {
    "collapsed": false
   },
   "outputs": [
    {
     "name": "stdout",
     "output_type": "stream",
     "text": [
      "Eigenvalues:  [ 0.00000000+0.488119j  0.00000000-0.488119j -4.20594167+3.704083j\n",
      " -3.07762250+3.129952j -4.01719625+4.616544j  0.00000000+3.717795j\n",
      " -4.99519292+5.620215j -2.41375917+5.33778j  -1.49858875-6.442257j\n",
      " -2.63104708+6.993242j -1.49858875+6.442257j  0.00000000+7.478414j\n",
      " -3.65719292-4.976066j -1.03305958+6.197849j -2.41375917-5.33778j\n",
      " -4.99519292-5.620215j  0.00000000-7.478414j -2.63104708-6.993242j\n",
      " -1.03305958-6.197849j -3.35096167+0.j       -4.01719625-4.616544j\n",
      " -1.22275083+3.242653j -4.20594167-3.704083j -3.07762250-3.129952j\n",
      " -1.22275083-3.242653j  0.00000000-3.717795j -3.65719292+4.976066j\n",
      " -3.78557500+0.j       -2.13498583+0.j       -1.97344750+0.j      ]\n",
      "f_c:  [-0.99740399 -0.93149025 -0.94040093 -0.9277157   0.97393318  0.92715824\n",
      " -0.94694202  0.90532285  0.91672062 -0.90495054  0.91666653  0.96777727\n",
      "  0.90986433 -0.97765229 -0.90823509 -0.9610488   0.90933693  0.96952902\n",
      " -0.98114671 -0.99411349 -0.93428792 -0.9982942  -0.99447083 -0.96761123\n",
      "  0.90395753 -0.96127545 -0.98299025  0.90898092 -0.95883866 -0.90539646]\n",
      "f_s:  [ 0.97425519 -0.9723822  -0.95530751 -0.9230654   0.93832964 -0.99906757\n",
      " -0.92508079  0.920591    0.91127586 -0.96785175 -0.96956433 -0.96713837\n",
      "  0.98379889  0.95370346  0.95331796  0.94738846  0.95919532 -0.9639569\n",
      " -0.95581293 -0.92994963  0.93011872  0.91966274 -0.96280584 -0.97320636\n",
      " -0.98598844 -0.96800916  0.94307479 -0.96053835 -0.98697923  0.94783454]\n",
      "Delta:  0.0800769873503\n"
     ]
    }
   ],
   "source": [
    "impulse = InitialImpulse(points)"
   ]
  },
  {
   "cell_type": "code",
   "execution_count": 27,
   "metadata": {
    "collapsed": false
   },
   "outputs": [],
   "source": [
    "def generate_cost_func(support, complexity):\n",
    "    \"\"\"\n",
    "    Example approximator.\n",
    "    \"\"\"\n",
    "    value = impulse.functor()(support)\n",
    "    delta = impulse.delta\n",
    "    def approximator(vec):\n",
    "        params = vec.reshape((4, complexity))\n",
    "        return mean(abs(value -  vectorize(get_impulse_sum(*params, delta))(support)))\n",
    "    return approximator"
   ]
  },
  {
   "cell_type": "code",
   "execution_count": 43,
   "metadata": {
    "collapsed": false
   },
   "outputs": [
    {
     "name": "stdout",
     "output_type": "stream",
     "text": [
      "Warning: Desired error not necessarily achieved due to precision loss.\n",
      "         Current function value: 0.034182\n",
      "         Iterations: 0\n",
      "         Function evaluations: 2612\n",
      "         Gradient evaluations: 100\n"
     ]
    }
   ],
   "source": [
    "Q = 6\n",
    "appr = generate_cost_func(arange(0, 500, 1), Q)\n",
    "f_cc = impulse.f_cc[impulse.eigenvalues.real == 0]\n",
    "f_ss = impulse.f_ss[impulse.eigenvalues.real == 0]\n",
    "alpha = zeros(Q)\n",
    "beta = impulse.eigenvalues[impulse.eigenvalues.real == 0].imag\n",
    "init_params = concatenate((f_cc, f_ss, alpha, beta))\n",
    "#print(appr(init_params))\n",
    "solution = sp.optimize.fmin_bfgs(appr, init_params)\n",
    "#print(solution.reshape((4, Q)))\n",
    "#solution = init_params"
   ]
  },
  {
   "cell_type": "code",
   "execution_count": 39,
   "metadata": {
    "collapsed": false
   },
   "outputs": [],
   "source": [
    "y_appr = vectorize(get_impulse_sum(*solution.reshape((4, Q)), DELTA))"
   ]
  },
  {
   "cell_type": "code",
   "execution_count": null,
   "metadata": {
    "collapsed": true
   },
   "outputs": [],
   "source": []
  }
 ],
 "metadata": {
  "kernelspec": {
   "display_name": "Python 3",
   "language": "python",
   "name": "python3"
  },
  "language_info": {
   "codemirror_mode": {
    "name": "ipython",
    "version": 3
   },
   "file_extension": ".py",
   "mimetype": "text/x-python",
   "name": "python",
   "nbconvert_exporter": "python",
   "pygments_lexer": "ipython3",
   "version": "3.5.2"
  }
 },
 "nbformat": 4,
 "nbformat_minor": 0
}
